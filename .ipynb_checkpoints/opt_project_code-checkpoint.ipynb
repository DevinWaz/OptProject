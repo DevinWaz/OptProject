{
 "cells": [
  {
   "cell_type": "code",
   "execution_count": 1,
   "metadata": {},
   "outputs": [
    {
     "name": "stderr",
     "output_type": "stream",
     "text": [
      "\u001b[36m\u001b[1m[ \u001b[22m\u001b[39m\u001b[36m\u001b[1mInfo: \u001b[22m\u001b[39mPrecompiling DataFrames [a93c6f00-e57d-5684-b7b6-d8193f3e46c0]\n"
     ]
    }
   ],
   "source": [
    "using CSV, DataFrames, JuMP, Gurobi"
   ]
  },
  {
   "cell_type": "code",
   "execution_count": 3,
   "metadata": {},
   "outputs": [
    {
     "data": {
      "text/plain": [
       "\"C:\\\\Users\\\\Waz\\\\Documents\\\\Classes\\\\Opt\\\\OptProject\""
      ]
     },
     "execution_count": 3,
     "metadata": {},
     "output_type": "execute_result"
    }
   ],
   "source": [
    "pwd()"
   ]
  },
  {
   "cell_type": "code",
   "execution_count": 6,
   "metadata": {},
   "outputs": [],
   "source": [
    "classroomCapacity = CSV.read(\".\\\\Data\\\\1000\\\\1000classroomCapacity.csv\", DataFrame)[:,2:end];\n",
    "daysAvailable = CSV.read(\".\\\\Data\\\\1000\\\\1000daysAvailable.csv\", DataFrame)[:,2:end];\n",
    "studentClasses = CSV.read(\".\\\\Data\\\\1000\\\\1000studentClasses.csv\", DataFrame)[:,2:end]; # Q\n",
    "subjectClassrooms = CSV.read(\".\\\\Data\\\\1000\\\\1000subjectClassrooms.csv\", DataFrame)[:,2:end]; # R\n",
    "classPeriods = CSV.read(\".\\\\Data\\\\1000\\\\1000classPeriods.csv\", DataFrame)[:,2:end]; # T"
   ]
  },
  {
   "cell_type": "code",
   "execution_count": 4,
   "metadata": {},
   "outputs": [
    {
     "name": "stdout",
     "output_type": "stream",
     "text": [
      "Set parameter Username\n",
      "Academic license - for non-commercial use only - expires 2024-08-22\n"
     ]
    }
   ],
   "source": [
    "model = Model(Gurobi.Optimizer);"
   ]
  },
  {
   "cell_type": "code",
   "execution_count": 5,
   "metadata": {},
   "outputs": [
    {
     "name": "stdout",
     "output_type": "stream",
     "text": [
      "Gurobi Optimizer version 10.0.2 build v10.0.2rc0 (mac64[arm])\n",
      "\n",
      "CPU model: Apple M1\n",
      "Thread count: 8 physical cores, 8 logical processors, using up to 8 threads\n",
      "\n",
      "Optimize a model with 41600 rows, 15600 columns and 893840 nonzeros\n",
      "Model fingerprint: 0x9674c261\n",
      "Coefficient statistics:\n",
      "  Matrix range     [1e+00, 1e+02]\n",
      "  Objective range  [9e-01, 2e+02]\n",
      "  Bounds range     [0e+00, 0e+00]\n",
      "  RHS range        [1e+00, 3e+05]\n",
      "Presolve removed 10389 rows and 100 columns\n",
      "Presolve time: 0.64s\n",
      "Presolved: 31211 rows, 15500 columns, 728977 nonzeros\n",
      "\n",
      "Concurrent LP optimizer: primal simplex, dual simplex, and barrier\n",
      "Showing barrier log only...\n",
      "\n",
      "\n",
      "Barrier performed 0 iterations in 1.13 seconds (1.18 work units)\n",
      "Barrier solve interrupted - model solved by another algorithm\n",
      "\n",
      "\n",
      "Solved with primal simplex\n",
      "Iteration    Objective       Primal Inf.    Dual Inf.      Time\n",
      "    8545    2.8361132e+06   0.000000e+00   0.000000e+00      1s\n",
      "\n",
      "Solved in 8545 iterations and 1.17 seconds (1.60 work units)\n",
      "Optimal objective  2.836113190e+06\n",
      "\n",
      "User-callback calls 131, time in user-callback 0.00 sec\n"
     ]
    }
   ],
   "source": [
    "I = 1:size(classroomCapacity,1)\n",
    "J = 1:8\n",
    "K = 1:size(studentClasses,1)\n",
    "D = 1:2\n",
    "P = 1:15\n",
    "Q = # k arrays (matrix) each person takes\n",
    "R = # p arrays of subjects and their classrooms (matrix)\n",
    "T = # matrix of which periods each subject can be in"
   ]
  },
  {
   "cell_type": "markdown",
   "metadata": {},
   "source": [
    "### Variables"
   ]
  },
  {
   "cell_type": "code",
   "execution_count": null,
   "metadata": {},
   "outputs": [],
   "source": [
    "#@variable(model, x[I, J], Bin); # classroom\n",
    "@variable(model, s[I, J, K, P], Bin); # student\n",
    "@variable(model, S[I, J, D, P], Bin); # subject"
   ]
  },
  {
   "cell_type": "markdown",
   "metadata": {},
   "source": [
    "## Constraints"
   ]
  },
  {
   "cell_type": "code",
   "execution_count": null,
   "metadata": {},
   "outputs": [],
   "source": [
    "@objective(model, Min, sum(S[i, j, d, p] for i in I for j in J for d in D for p in P))"
   ]
  },
  {
   "cell_type": "markdown",
   "metadata": {},
   "source": [
    "#### Student constraints"
   ]
  },
  {
   "cell_type": "code",
   "execution_count": null,
   "metadata": {},
   "outputs": [],
   "source": [
    "# student athlete cannot have class period 8\n",
    "# student in chorus \n",
    "for k in K\n",
    "    for i in I\n",
    "        for j in J\n",
    "            if studentClasses[k, 7] == 1 # if they are athlete\n",
    "                if j == 8\n",
    "                    @constraint(model, [p = P], s[i, j, k, p] = 0)\n",
    "                end\n",
    "            end\n",
    "            if studentClasses[k, 8] == 1\n",
    "                if j == 7 | j == 8\n",
    "                    @constraint(model, [p = P], s[i, j, k, p] = 0)\n",
    "            end\n",
    "        end\n",
    "    end\n",
    "end"
   ]
  },
  {
   "cell_type": "code",
   "execution_count": null,
   "metadata": {},
   "outputs": [],
   "source": [
    "# each student only one class at same time\n",
    "@constraint(model, [j = J, k = K, p = P], sum(s[i, j, k, p] for i in I) == 1)"
   ]
  },
  {
   "cell_type": "code",
   "execution_count": null,
   "metadata": {},
   "outputs": [],
   "source": [
    "# each student gets all of their classes\n",
    "# Q is a matrix that is 1000x15 where there are 15 classes, binary if student needs it or not\n",
    "@constraint(model, [i = I, j = J, k = K], sum(s[i, j, k, p]*Q[k, p] for p in P) == 5)"
   ]
  },
  {
   "cell_type": "markdown",
   "metadata": {},
   "source": [
    "#### Classroom Capacities"
   ]
  },
  {
   "cell_type": "code",
   "execution_count": null,
   "metadata": {},
   "outputs": [],
   "source": [
    "# this works because we have the next constraint\n",
    "@constraint(model, [i = I, j = J, p = P], sum(s[i, j, k, p] for k in K) <= classroomCapacity[i, 1])"
   ]
  },
  {
   "cell_type": "markdown",
   "metadata": {},
   "source": [
    "#### Period Constraints"
   ]
  },
  {
   "cell_type": "code",
   "execution_count": null,
   "metadata": {},
   "outputs": [],
   "source": [
    "# T is a 15 x 8 matrix, p x j\n",
    "# subjects only in certain time periods allowed\n",
    "# for a given subject, classroom, day, sum time periods and make sure it is less than total classrooms for subject\n",
    "@constraint(model, [p = P, i = I, d = D], sum(S[i, j, d, p]*T[p, j] for p in P) <= sum(T[p, j] for j in J))\n",
    "for i in I\n",
    "    for j in J\n",
    "        for d in D\n",
    "            for p in P\n",
    "                if T[p, j] == 0 # if subject is not given during that time period\n",
    "                    S[i, j, d, p] == 0 # make sure Subject is 0\n",
    "                end\n",
    "            end\n",
    "        end\n",
    "    end\n",
    "end"
   ]
  },
  {
   "cell_type": "markdown",
   "metadata": {},
   "source": [
    "#### Subject Constraints"
   ]
  },
  {
   "cell_type": "code",
   "execution_count": null,
   "metadata": {},
   "outputs": [],
   "source": [
    "#i, j, d, p\n",
    "# only one subject can be in one classroom during one time period on certain day\n",
    "@constraint(model, [p = P, d = D, j = J], sum(S[i, j, d, p] for i in I) == 1)\n",
    "\n",
    "# if subject is not given on a certain day, make sure it is 0\n",
    "#@constraint(model, [i = I, p = P, d = D, j = J], S[i, j, d, p] = 0 if daysAvailable[p, 2] == 1)\n",
    "@constraint(model, [i = I, p = P, d = D, j = J], S[i, j, d, p] = 0, when=daysAvailable[p, 2] == 1)"
   ]
  },
  {
   "cell_type": "code",
   "execution_count": null,
   "metadata": {},
   "outputs": [],
   "source": [
    "# ensuring subjects are only in their classrooms\n",
    "# R is a 15 \n",
    "@constraint(model, [i = I, j = J, d = D], sum(S[i, j, d, p]*R[p, i] for p in P) <= sum(R[p,i] for i in I))\n",
    "for i in I\n",
    "    for j in J\n",
    "        for d in D\n",
    "            for p in P\n",
    "                if R[p, i] == 0 # if subject is not in a classroom\n",
    "                    S[i, j, d, p] == 0 # make sure subject is 0\n",
    "                end\n",
    "            end\n",
    "        end\n",
    "    end\n",
    "end"
   ]
  },
  {
   "cell_type": "code",
   "execution_count": null,
   "metadata": {},
   "outputs": [],
   "source": [
    "optimize!(model)"
   ]
  }
 ],
 "metadata": {
  "kernelspec": {
   "display_name": "Julia 1.9.2",
   "language": "julia",
   "name": "julia-1.9"
  },
  "language_info": {
   "file_extension": ".jl",
   "mimetype": "application/julia",
   "name": "julia",
   "version": "1.9.2"
  }
 },
 "nbformat": 4,
 "nbformat_minor": 4
}
