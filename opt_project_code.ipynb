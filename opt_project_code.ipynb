{
 "cells": [
  {
   "cell_type": "code",
   "execution_count": 1,
   "metadata": {},
   "outputs": [],
   "source": [
    "using CSV, DataFrames, JuMP, Gurobi"
   ]
  },
  {
   "cell_type": "code",
   "execution_count": 2,
   "metadata": {},
   "outputs": [],
   "source": [
    "classroomCapacity = CSV.read(\"classroomCapacity.csv\", DataFrame);\n",
    "daysAvailable = CSV.read(\"daysAvailable.csv\", DataFrame);\n",
    "studentClasses = CSV.read(\"studentClasses.csv\", DataFrame);\n",
    "subjectClassrooms = CSV.read(\"subjectClassrooms.csv\", DataFrame);"
   ]
  },
  {
   "cell_type": "code",
   "execution_count": 11,
   "metadata": {},
   "outputs": [
    {
     "data": {
      "text/html": [
       "<div><div style = \"float: left;\"><span>16×4 DataFrame</span></div><div style = \"clear: both;\"></div></div><div class = \"data-frame\" style = \"overflow-x: scroll;\"><table class = \"data-frame\" style = \"margin-bottom: 6px;\"><thead><tr class = \"header\"><th class = \"rowNumber\" style = \"font-weight: bold; text-align: right;\">Row</th><th style = \"text-align: left;\">Column1</th><th style = \"text-align: left;\">Class</th><th style = \"text-align: left;\">A</th><th style = \"text-align: left;\">B</th></tr><tr class = \"subheader headerLastRow\"><th class = \"rowNumber\" style = \"font-weight: bold; text-align: right;\"></th><th title = \"Int64\" style = \"text-align: left;\">Int64</th><th title = \"String31\" style = \"text-align: left;\">String31</th><th title = \"Int64\" style = \"text-align: left;\">Int64</th><th title = \"Int64\" style = \"text-align: left;\">Int64</th></tr></thead><tbody><tr><td class = \"rowNumber\" style = \"font-weight: bold; text-align: right;\">1</td><td style = \"text-align: right;\">0</td><td style = \"text-align: left;\">History</td><td style = \"text-align: right;\">1</td><td style = \"text-align: right;\">1</td></tr><tr><td class = \"rowNumber\" style = \"font-weight: bold; text-align: right;\">2</td><td style = \"text-align: right;\">1</td><td style = \"text-align: left;\">Biology</td><td style = \"text-align: right;\">1</td><td style = \"text-align: right;\">1</td></tr><tr><td class = \"rowNumber\" style = \"font-weight: bold; text-align: right;\">3</td><td style = \"text-align: right;\">2</td><td style = \"text-align: left;\">Chemistry</td><td style = \"text-align: right;\">1</td><td style = \"text-align: right;\">1</td></tr><tr><td class = \"rowNumber\" style = \"font-weight: bold; text-align: right;\">4</td><td style = \"text-align: right;\">3</td><td style = \"text-align: left;\">Physics</td><td style = \"text-align: right;\">1</td><td style = \"text-align: right;\">0</td></tr><tr><td class = \"rowNumber\" style = \"font-weight: bold; text-align: right;\">5</td><td style = \"text-align: right;\">4</td><td style = \"text-align: left;\">English</td><td style = \"text-align: right;\">1</td><td style = \"text-align: right;\">0</td></tr><tr><td class = \"rowNumber\" style = \"font-weight: bold; text-align: right;\">6</td><td style = \"text-align: right;\">5</td><td style = \"text-align: left;\">Optimization</td><td style = \"text-align: right;\">1</td><td style = \"text-align: right;\">1</td></tr><tr><td class = \"rowNumber\" style = \"font-weight: bold; text-align: right;\">7</td><td style = \"text-align: right;\">6</td><td style = \"text-align: left;\">Machine Learning</td><td style = \"text-align: right;\">1</td><td style = \"text-align: right;\">1</td></tr><tr><td class = \"rowNumber\" style = \"font-weight: bold; text-align: right;\">8</td><td style = \"text-align: right;\">7</td><td style = \"text-align: left;\">Business</td><td style = \"text-align: right;\">0</td><td style = \"text-align: right;\">1</td></tr><tr><td class = \"rowNumber\" style = \"font-weight: bold; text-align: right;\">9</td><td style = \"text-align: right;\">8</td><td style = \"text-align: left;\">Astro Engineering</td><td style = \"text-align: right;\">1</td><td style = \"text-align: right;\">1</td></tr><tr><td class = \"rowNumber\" style = \"font-weight: bold; text-align: right;\">10</td><td style = \"text-align: right;\">9</td><td style = \"text-align: left;\">Aero Engineering</td><td style = \"text-align: right;\">1</td><td style = \"text-align: right;\">0</td></tr><tr><td class = \"rowNumber\" style = \"font-weight: bold; text-align: right;\">11</td><td style = \"text-align: right;\">10</td><td style = \"text-align: left;\">Political Science</td><td style = \"text-align: right;\">1</td><td style = \"text-align: right;\">1</td></tr><tr><td class = \"rowNumber\" style = \"font-weight: bold; text-align: right;\">12</td><td style = \"text-align: right;\">11</td><td style = \"text-align: left;\">Social Science</td><td style = \"text-align: right;\">1</td><td style = \"text-align: right;\">1</td></tr><tr><td class = \"rowNumber\" style = \"font-weight: bold; text-align: right;\">13</td><td style = \"text-align: right;\">12</td><td style = \"text-align: left;\">Chinese</td><td style = \"text-align: right;\">0</td><td style = \"text-align: right;\">1</td></tr><tr><td class = \"rowNumber\" style = \"font-weight: bold; text-align: right;\">14</td><td style = \"text-align: right;\">13</td><td style = \"text-align: left;\">French</td><td style = \"text-align: right;\">0</td><td style = \"text-align: right;\">1</td></tr><tr><td class = \"rowNumber\" style = \"font-weight: bold; text-align: right;\">15</td><td style = \"text-align: right;\">14</td><td style = \"text-align: left;\">Spanish</td><td style = \"text-align: right;\">1</td><td style = \"text-align: right;\">1</td></tr><tr><td class = \"rowNumber\" style = \"font-weight: bold; text-align: right;\">16</td><td style = \"text-align: right;\">15</td><td style = \"text-align: left;\">Algebra</td><td style = \"text-align: right;\">1</td><td style = \"text-align: right;\">0</td></tr></tbody></table></div>"
      ],
      "text/latex": [
       "\\begin{tabular}{r|cccc}\n",
       "\t& Column1 & Class & A & B\\\\\n",
       "\t\\hline\n",
       "\t& Int64 & String31 & Int64 & Int64\\\\\n",
       "\t\\hline\n",
       "\t1 & 0 & History & 1 & 1 \\\\\n",
       "\t2 & 1 & Biology & 1 & 1 \\\\\n",
       "\t3 & 2 & Chemistry & 1 & 1 \\\\\n",
       "\t4 & 3 & Physics & 1 & 0 \\\\\n",
       "\t5 & 4 & English & 1 & 0 \\\\\n",
       "\t6 & 5 & Optimization & 1 & 1 \\\\\n",
       "\t7 & 6 & Machine Learning & 1 & 1 \\\\\n",
       "\t8 & 7 & Business & 0 & 1 \\\\\n",
       "\t9 & 8 & Astro Engineering & 1 & 1 \\\\\n",
       "\t10 & 9 & Aero Engineering & 1 & 0 \\\\\n",
       "\t11 & 10 & Political Science & 1 & 1 \\\\\n",
       "\t12 & 11 & Social Science & 1 & 1 \\\\\n",
       "\t13 & 12 & Chinese & 0 & 1 \\\\\n",
       "\t14 & 13 & French & 0 & 1 \\\\\n",
       "\t15 & 14 & Spanish & 1 & 1 \\\\\n",
       "\t16 & 15 & Algebra & 1 & 0 \\\\\n",
       "\\end{tabular}\n"
      ],
      "text/plain": [
       "\u001b[1m16×4 DataFrame\u001b[0m\n",
       "\u001b[1m Row \u001b[0m│\u001b[1m Column1 \u001b[0m\u001b[1m Class             \u001b[0m\u001b[1m A     \u001b[0m\u001b[1m B     \u001b[0m\n",
       "     │\u001b[90m Int64   \u001b[0m\u001b[90m String31          \u001b[0m\u001b[90m Int64 \u001b[0m\u001b[90m Int64 \u001b[0m\n",
       "─────┼──────────────────────────────────────────\n",
       "   1 │       0  History                1      1\n",
       "   2 │       1  Biology                1      1\n",
       "   3 │       2  Chemistry              1      1\n",
       "   4 │       3  Physics                1      0\n",
       "   5 │       4  English                1      0\n",
       "   6 │       5  Optimization           1      1\n",
       "   7 │       6  Machine Learning       1      1\n",
       "   8 │       7  Business               0      1\n",
       "   9 │       8  Astro Engineering      1      1\n",
       "  10 │       9  Aero Engineering       1      0\n",
       "  11 │      10  Political Science      1      1\n",
       "  12 │      11  Social Science         1      1\n",
       "  13 │      12  Chinese                0      1\n",
       "  14 │      13  French                 0      1\n",
       "  15 │      14  Spanish                1      1\n",
       "  16 │      15  Algebra                1      0"
      ]
     },
     "execution_count": 11,
     "metadata": {},
     "output_type": "execute_result"
    }
   ],
   "source": [
    "daysAvailable"
   ]
  },
  {
   "cell_type": "code",
   "execution_count": 3,
   "metadata": {},
   "outputs": [],
   "source": [
    "R = Matrix(requirements)[:,2:101];\n",
    "A = Matrix(availability)[:,2:53];\n",
    "D = Matrix(demand)[:,2:53];\n",
    "P = Matrix(profit)[:,2];\n",
    "H = Matrix(holding)[:,2];"
   ]
  },
  {
   "cell_type": "code",
   "execution_count": 4,
   "metadata": {},
   "outputs": [
    {
     "name": "stdout",
     "output_type": "stream",
     "text": [
      "Set parameter Username\n",
      "Academic license - for non-commercial use only - expires 2024-08-22\n"
     ]
    }
   ],
   "source": [
    "model = Model(Gurobi.Optimizer);"
   ]
  },
  {
   "cell_type": "code",
   "execution_count": 5,
   "metadata": {},
   "outputs": [
    {
     "name": "stdout",
     "output_type": "stream",
     "text": [
      "Gurobi Optimizer version 10.0.2 build v10.0.2rc0 (mac64[arm])\n",
      "\n",
      "CPU model: Apple M1\n",
      "Thread count: 8 physical cores, 8 logical processors, using up to 8 threads\n",
      "\n",
      "Optimize a model with 41600 rows, 15600 columns and 893840 nonzeros\n",
      "Model fingerprint: 0x9674c261\n",
      "Coefficient statistics:\n",
      "  Matrix range     [1e+00, 1e+02]\n",
      "  Objective range  [9e-01, 2e+02]\n",
      "  Bounds range     [0e+00, 0e+00]\n",
      "  RHS range        [1e+00, 3e+05]\n",
      "Presolve removed 10389 rows and 100 columns\n",
      "Presolve time: 0.64s\n",
      "Presolved: 31211 rows, 15500 columns, 728977 nonzeros\n",
      "\n",
      "Concurrent LP optimizer: primal simplex, dual simplex, and barrier\n",
      "Showing barrier log only...\n",
      "\n",
      "\n",
      "Barrier performed 0 iterations in 1.13 seconds (1.18 work units)\n",
      "Barrier solve interrupted - model solved by another algorithm\n",
      "\n",
      "\n",
      "Solved with primal simplex\n",
      "Iteration    Objective       Primal Inf.    Dual Inf.      Time\n",
      "    8545    2.8361132e+06   0.000000e+00   0.000000e+00      1s\n",
      "\n",
      "Solved in 8545 iterations and 1.17 seconds (1.60 work units)\n",
      "Optimal objective  2.836113190e+06\n",
      "\n",
      "User-callback calls 131, time in user-callback 0.00 sec\n"
     ]
    }
   ],
   "source": [
    "material = 1:500;\n",
    "type = 1:100;\n",
    "week = 1:52;\n",
    "\n",
    "@variable(model, X[type, week] >= 0);\n",
    "@variable(model, min[type, week] >= 0);\n",
    "@variable(model, left[type, week] >= 0);\n",
    "\n",
    "@constraint(model)\n",
    "\n",
    "@objective(model, Max, );\n",
    "optimize!(model)"
   ]
  },
  {
   "cell_type": "code",
   "execution_count": 6,
   "metadata": {},
   "outputs": [
    {
     "name": "stdout",
     "output_type": "stream",
     "text": [
      "total profit: 2.8485910940807085e6\n",
      "total cost: 12477.904116142226\n"
     ]
    }
   ],
   "source": [
    "total_profit = sum(sum(P[j] * value(min[j, k]) for k in week) for j in type);\n",
    "total_cost = sum(sum(H[k] * (value(X[j, k]) + value(left[j, k]) - value(min[j, k])) for k in week) for j in type);\n",
    "println(\"total profit: \", total_profit);\n",
    "println(\"total cost: \", total_cost);"
   ]
  }
 ],
 "metadata": {
  "kernelspec": {
   "display_name": "Julia 1.9.2",
   "language": "julia",
   "name": "julia-1.9"
  },
  "language_info": {
   "file_extension": ".jl",
   "mimetype": "application/julia",
   "name": "julia",
   "version": "1.9.2"
  }
 },
 "nbformat": 4,
 "nbformat_minor": 4
}
