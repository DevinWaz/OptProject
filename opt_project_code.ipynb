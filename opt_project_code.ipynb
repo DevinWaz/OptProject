{
 "cells": [
  {
   "cell_type": "code",
   "execution_count": 1,
   "metadata": {},
   "outputs": [
    {
     "name": "stderr",
     "output_type": "stream",
     "text": [
      "\u001b[36m\u001b[1m[ \u001b[22m\u001b[39m\u001b[36m\u001b[1mInfo: \u001b[22m\u001b[39mPrecompiling DataFrames [a93c6f00-e57d-5684-b7b6-d8193f3e46c0]\n"
     ]
    }
   ],
   "source": [
    "using CSV, DataFrames, JuMP, Gurobi"
   ]
  },
  {
   "cell_type": "code",
   "execution_count": 14,
   "metadata": {},
   "outputs": [
    {
     "data": {
      "text/plain": [
       "\"C:\\\\Users\\\\Waz\\\\Documents\\\\Classes\\\\Opt\\\\OptProject\""
      ]
     },
     "execution_count": 14,
     "metadata": {},
     "output_type": "execute_result"
    }
   ],
   "source": [
    "pwd()"
   ]
  },
  {
   "cell_type": "code",
   "execution_count": 15,
   "metadata": {},
   "outputs": [],
   "source": [
    "classroomCapacity = CSV.read(\".\\\\Data\\\\1000\\\\1000classroomCapacity.csv\", DataFrame)[:,2:end];\n",
    "daysAvailable = CSV.read(\".\\\\Data\\\\1000\\\\1000daysAvailable.csv\", DataFrame)[:,2:end];\n",
    "studentClasses = CSV.read(\".\\\\Data\\\\1000\\\\1000studentClasses.csv\", DataFrame)[:,2:end]; # Q\n",
    "subjectClassrooms = CSV.read(\".\\\\Data\\\\1000\\\\1000subjectClassrooms.csv\", DataFrame)[:,2:end]; # R\n",
    "classPeriods = CSV.read(\".\\\\Data\\\\1000\\\\1000classPeriods.csv\", DataFrame)[:,2:end]; # T"
   ]
  },
  {
   "cell_type": "code",
   "execution_count": 20,
   "metadata": {},
   "outputs": [
    {
     "data": {
      "text/html": [
       "<div><div style = \"float: left;\"><span>34×8 DataFrame</span></div><div style = \"float: right;\"><span style = \"font-style: italic;\">9 rows omitted</span></div><div style = \"clear: both;\"></div></div><div class = \"data-frame\" style = \"overflow-x: scroll;\"><table class = \"data-frame\" style = \"margin-bottom: 6px;\"><thead><tr class = \"header\"><th class = \"rowNumber\" style = \"font-weight: bold; text-align: right;\">Row</th><th style = \"text-align: left;\">Period_0</th><th style = \"text-align: left;\">Period_1</th><th style = \"text-align: left;\">Period_2</th><th style = \"text-align: left;\">Period_3</th><th style = \"text-align: left;\">Period_4</th><th style = \"text-align: left;\">Period_5</th><th style = \"text-align: left;\">Period_6</th><th style = \"text-align: left;\">Period_7</th></tr><tr class = \"subheader headerLastRow\"><th class = \"rowNumber\" style = \"font-weight: bold; text-align: right;\"></th><th title = \"Union{Missing, String31}\" style = \"text-align: left;\">String31?</th><th title = \"Union{Missing, String15}\" style = \"text-align: left;\">String15?</th><th title = \"Union{Missing, Int64}\" style = \"text-align: left;\">Int64?</th><th title = \"Union{Missing, Int64}\" style = \"text-align: left;\">Int64?</th><th title = \"Union{Missing, Int64}\" style = \"text-align: left;\">Int64?</th><th title = \"Union{Missing, Int64}\" style = \"text-align: left;\">Int64?</th><th title = \"Union{Missing, Int64}\" style = \"text-align: left;\">Int64?</th><th title = \"Union{Missing, Int64}\" style = \"text-align: left;\">Int64?</th></tr></thead><tbody><tr><td class = \"rowNumber\" style = \"font-weight: bold; text-align: right;\">1</td><td style = \"text-align: left;\">0</td><td style = \"text-align: left;\">1</td><td style = \"text-align: right;\">1</td><td style = \"text-align: right;\">0</td><td style = \"text-align: right;\">0</td><td style = \"text-align: right;\">0</td><td style = \"text-align: right;\">0</td><td style = \"text-align: right;\">0</td></tr><tr><td class = \"rowNumber\" style = \"font-weight: bold; text-align: right;\">2</td><td style = \"text-align: left;\">1</td><td style = \"text-align: left;\">0</td><td style = \"text-align: right;\">1</td><td style = \"text-align: right;\">1</td><td style = \"text-align: right;\">0</td><td style = \"text-align: right;\">0</td><td style = \"text-align: right;\">1</td><td style = \"text-align: right;\">0</td></tr><tr><td class = \"rowNumber\" style = \"font-weight: bold; text-align: right;\">3</td><td style = \"text-align: left;\">0</td><td style = \"text-align: left;\">0</td><td style = \"text-align: right;\">1</td><td style = \"text-align: right;\">0</td><td style = \"text-align: right;\">0</td><td style = \"text-align: right;\">1</td><td style = \"text-align: right;\">0</td><td style = \"text-align: right;\">1</td></tr><tr><td class = \"rowNumber\" style = \"font-weight: bold; text-align: right;\">4</td><td style = \"text-align: left;\">0</td><td style = \"text-align: left;\">1</td><td style = \"text-align: right;\">0</td><td style = \"text-align: right;\">1</td><td style = \"text-align: right;\">0</td><td style = \"text-align: right;\">0</td><td style = \"text-align: right;\">0</td><td style = \"text-align: right;\">0</td></tr><tr><td class = \"rowNumber\" style = \"font-weight: bold; text-align: right;\">5</td><td style = \"text-align: left;\">1</td><td style = \"text-align: left;\">1</td><td style = \"text-align: right;\">0</td><td style = \"text-align: right;\">1</td><td style = \"text-align: right;\">0</td><td style = \"text-align: right;\">0</td><td style = \"text-align: right;\">0</td><td style = \"text-align: right;\">1</td></tr><tr><td class = \"rowNumber\" style = \"font-weight: bold; text-align: right;\">6</td><td style = \"text-align: left;\">1</td><td style = \"text-align: left;\">0</td><td style = \"text-align: right;\">0</td><td style = \"text-align: right;\">1</td><td style = \"text-align: right;\">1</td><td style = \"text-align: right;\">0</td><td style = \"text-align: right;\">0</td><td style = \"text-align: right;\">0</td></tr><tr><td class = \"rowNumber\" style = \"font-weight: bold; text-align: right;\">7</td><td style = \"text-align: left;\">0</td><td style = \"text-align: left;\">0</td><td style = \"text-align: right;\">0</td><td style = \"text-align: right;\">1</td><td style = \"text-align: right;\">0</td><td style = \"text-align: right;\">0</td><td style = \"text-align: right;\">1</td><td style = \"text-align: right;\">0</td></tr><tr><td class = \"rowNumber\" style = \"font-weight: bold; text-align: right;\">8</td><td style = \"text-align: left;\">0</td><td style = \"text-align: left;\">1</td><td style = \"text-align: right;\">1</td><td style = \"text-align: right;\">0</td><td style = \"text-align: right;\">0</td><td style = \"text-align: right;\">0</td><td style = \"text-align: right;\">1</td><td style = \"text-align: right;\">1</td></tr><tr><td class = \"rowNumber\" style = \"font-weight: bold; text-align: right;\">9</td><td style = \"text-align: left;\">0</td><td style = \"text-align: left;\">1</td><td style = \"text-align: right;\">0</td><td style = \"text-align: right;\">0</td><td style = \"text-align: right;\">0</td><td style = \"text-align: right;\">1</td><td style = \"text-align: right;\">0</td><td style = \"text-align: right;\">1</td></tr><tr><td class = \"rowNumber\" style = \"font-weight: bold; text-align: right;\">10</td><td style = \"text-align: left;\">0</td><td style = \"text-align: left;\">0</td><td style = \"text-align: right;\">0</td><td style = \"text-align: right;\">0</td><td style = \"text-align: right;\">1</td><td style = \"text-align: right;\">1</td><td style = \"text-align: right;\">0</td><td style = \"text-align: right;\">1</td></tr><tr><td class = \"rowNumber\" style = \"font-weight: bold; text-align: right;\">11</td><td style = \"text-align: left;\">0</td><td style = \"text-align: left;\">0</td><td style = \"text-align: right;\">1</td><td style = \"text-align: right;\">1</td><td style = \"text-align: right;\">1</td><td style = \"text-align: right;\">0</td><td style = \"text-align: right;\">0</td><td style = \"text-align: right;\">0</td></tr><tr><td class = \"rowNumber\" style = \"font-weight: bold; text-align: right;\">12</td><td style = \"text-align: left;\">1</td><td style = \"text-align: left;\">1</td><td style = \"text-align: right;\">0</td><td style = \"text-align: right;\">0</td><td style = \"text-align: right;\">0</td><td style = \"text-align: right;\">0</td><td style = \"text-align: right;\">1</td><td style = \"text-align: right;\">0</td></tr><tr><td class = \"rowNumber\" style = \"font-weight: bold; text-align: right;\">13</td><td style = \"text-align: left;\">1</td><td style = \"text-align: left;\">0</td><td style = \"text-align: right;\">0</td><td style = \"text-align: right;\">0</td><td style = \"text-align: right;\">1</td><td style = \"text-align: right;\">0</td><td style = \"text-align: right;\">0</td><td style = \"text-align: right;\">0</td></tr><tr><td style = \"text-align: right;\">&vellip;</td><td style = \"text-align: right;\">&vellip;</td><td style = \"text-align: right;\">&vellip;</td><td style = \"text-align: right;\">&vellip;</td><td style = \"text-align: right;\">&vellip;</td><td style = \"text-align: right;\">&vellip;</td><td style = \"text-align: right;\">&vellip;</td><td style = \"text-align: right;\">&vellip;</td><td style = \"text-align: right;\">&vellip;</td></tr><tr><td class = \"rowNumber\" style = \"font-weight: bold; text-align: right;\">23</td><td style = \"text-align: left;\">Optimization</td><td style = \"text-align: left;\">[7, 6, 0, 2]</td><td style = \"text-align: right;\">missing</td><td style = \"text-align: right;\">missing</td><td style = \"text-align: right;\">missing</td><td style = \"text-align: right;\">missing</td><td style = \"text-align: right;\">missing</td><td style = \"text-align: right;\">missing</td></tr><tr><td class = \"rowNumber\" style = \"font-weight: bold; text-align: right;\">24</td><td style = \"text-align: left;\">Machine Learning</td><td style = \"text-align: left;\">[]</td><td style = \"text-align: right;\">missing</td><td style = \"text-align: right;\">missing</td><td style = \"text-align: right;\">missing</td><td style = \"text-align: right;\">missing</td><td style = \"text-align: right;\">missing</td><td style = \"text-align: right;\">missing</td></tr><tr><td class = \"rowNumber\" style = \"font-weight: bold; text-align: right;\">25</td><td style = \"font-style: italic; text-align: left;\">Business</td><td style = \"font-style: italic; text-align: left;\">[0, 4, 7, 3]</td><td style = \"font-style: italic; text-align: right;\">missing</td><td style = \"font-style: italic; text-align: right;\">missing</td><td style = \"font-style: italic; text-align: right;\">missing</td><td style = \"font-style: italic; text-align: right;\">missing</td><td style = \"font-style: italic; text-align: right;\">missing</td><td style = \"font-style: italic; text-align: right;\">missing</td></tr><tr><td class = \"rowNumber\" style = \"font-weight: bold; text-align: right;\">26</td><td style = \"text-align: left;\">Astro Engineering</td><td style = \"text-align: left;\">[7, 3, 0, 5]</td><td style = \"font-style: italic; text-align: right;\">missing</td><td style = \"font-style: italic; text-align: right;\">missing</td><td style = \"font-style: italic; text-align: right;\">missing</td><td style = \"font-style: italic; text-align: right;\">missing</td><td style = \"font-style: italic; text-align: right;\">missing</td><td style = \"font-style: italic; text-align: right;\">missing</td></tr><tr><td class = \"rowNumber\" style = \"font-weight: bold; text-align: right;\">27</td><td style = \"text-align: left;\">Aero Engineering</td><td style = \"text-align: left;\">[4, 7]</td><td style = \"font-style: italic; text-align: right;\">missing</td><td style = \"font-style: italic; text-align: right;\">missing</td><td style = \"font-style: italic; text-align: right;\">missing</td><td style = \"font-style: italic; text-align: right;\">missing</td><td style = \"font-style: italic; text-align: right;\">missing</td><td style = \"font-style: italic; text-align: right;\">missing</td></tr><tr><td class = \"rowNumber\" style = \"font-weight: bold; text-align: right;\">28</td><td style = \"text-align: left;\">Political Science</td><td style = \"text-align: left;\">[5, 6, 4, 0]</td><td style = \"font-style: italic; text-align: right;\">missing</td><td style = \"font-style: italic; text-align: right;\">missing</td><td style = \"font-style: italic; text-align: right;\">missing</td><td style = \"font-style: italic; text-align: right;\">missing</td><td style = \"font-style: italic; text-align: right;\">missing</td><td style = \"font-style: italic; text-align: right;\">missing</td></tr><tr><td class = \"rowNumber\" style = \"font-weight: bold; text-align: right;\">29</td><td style = \"text-align: left;\">Social Science</td><td style = \"text-align: left;\">[3, 0, 6, 5]</td><td style = \"font-style: italic; text-align: right;\">missing</td><td style = \"font-style: italic; text-align: right;\">missing</td><td style = \"font-style: italic; text-align: right;\">missing</td><td style = \"font-style: italic; text-align: right;\">missing</td><td style = \"font-style: italic; text-align: right;\">missing</td><td style = \"font-style: italic; text-align: right;\">missing</td></tr><tr><td class = \"rowNumber\" style = \"font-weight: bold; text-align: right;\">30</td><td style = \"text-align: left;\">Chinese</td><td style = \"text-align: left;\">[7, 2, 4, 3]</td><td style = \"font-style: italic; text-align: right;\">missing</td><td style = \"font-style: italic; text-align: right;\">missing</td><td style = \"font-style: italic; text-align: right;\">missing</td><td style = \"font-style: italic; text-align: right;\">missing</td><td style = \"font-style: italic; text-align: right;\">missing</td><td style = \"font-style: italic; text-align: right;\">missing</td></tr><tr><td class = \"rowNumber\" style = \"font-weight: bold; text-align: right;\">31</td><td style = \"text-align: left;\">French</td><td style = \"text-align: left;\">[2, 4, 3]</td><td style = \"font-style: italic; text-align: right;\">missing</td><td style = \"font-style: italic; text-align: right;\">missing</td><td style = \"font-style: italic; text-align: right;\">missing</td><td style = \"font-style: italic; text-align: right;\">missing</td><td style = \"font-style: italic; text-align: right;\">missing</td><td style = \"font-style: italic; text-align: right;\">missing</td></tr><tr><td class = \"rowNumber\" style = \"font-weight: bold; text-align: right;\">32</td><td style = \"text-align: left;\">Spanish</td><td style = \"text-align: left;\">[3, 1, 5, 7]</td><td style = \"font-style: italic; text-align: right;\">missing</td><td style = \"font-style: italic; text-align: right;\">missing</td><td style = \"font-style: italic; text-align: right;\">missing</td><td style = \"font-style: italic; text-align: right;\">missing</td><td style = \"font-style: italic; text-align: right;\">missing</td><td style = \"font-style: italic; text-align: right;\">missing</td></tr><tr><td class = \"rowNumber\" style = \"font-weight: bold; text-align: right;\">33</td><td style = \"text-align: left;\">Algebra</td><td style = \"text-align: left;\">[5, 7, 0, 4]</td><td style = \"font-style: italic; text-align: right;\">missing</td><td style = \"font-style: italic; text-align: right;\">missing</td><td style = \"font-style: italic; text-align: right;\">missing</td><td style = \"font-style: italic; text-align: right;\">missing</td><td style = \"font-style: italic; text-align: right;\">missing</td><td style = \"font-style: italic; text-align: right;\">missing</td></tr><tr><td class = \"rowNumber\" style = \"font-weight: bold; text-align: right;\">34</td><td style = \"text-align: left;\">missing</td><td style = \"text-align: left;\">missing</td><td style = \"font-style: italic; text-align: right;\">missing</td><td style = \"font-style: italic; text-align: right;\">missing</td><td style = \"font-style: italic; text-align: right;\">missing</td><td style = \"font-style: italic; text-align: right;\">missing</td><td style = \"font-style: italic; text-align: right;\">missing</td><td style = \"font-style: italic; text-align: right;\">missing</td></tr></tbody></table></div>"
      ],
      "text/latex": [
       "\\begin{tabular}{r|cccccccc}\n",
       "\t& Period\\_0 & Period\\_1 & Period\\_2 & Period\\_3 & Period\\_4 & Period\\_5 & Period\\_6 & \\\\\n",
       "\t\\hline\n",
       "\t& String31? & String15? & Int64? & Int64? & Int64? & Int64? & Int64? & \\\\\n",
       "\t\\hline\n",
       "\t1 & 0 & 1 & 1 & 0 & 0 & 0 & 0 & $\\dots$ \\\\\n",
       "\t2 & 1 & 0 & 1 & 1 & 0 & 0 & 1 & $\\dots$ \\\\\n",
       "\t3 & 0 & 0 & 1 & 0 & 0 & 1 & 0 & $\\dots$ \\\\\n",
       "\t4 & 0 & 1 & 0 & 1 & 0 & 0 & 0 & $\\dots$ \\\\\n",
       "\t5 & 1 & 1 & 0 & 1 & 0 & 0 & 0 & $\\dots$ \\\\\n",
       "\t6 & 1 & 0 & 0 & 1 & 1 & 0 & 0 & $\\dots$ \\\\\n",
       "\t7 & 0 & 0 & 0 & 1 & 0 & 0 & 1 & $\\dots$ \\\\\n",
       "\t8 & 0 & 1 & 1 & 0 & 0 & 0 & 1 & $\\dots$ \\\\\n",
       "\t9 & 0 & 1 & 0 & 0 & 0 & 1 & 0 & $\\dots$ \\\\\n",
       "\t10 & 0 & 0 & 0 & 0 & 1 & 1 & 0 & $\\dots$ \\\\\n",
       "\t11 & 0 & 0 & 1 & 1 & 1 & 0 & 0 & $\\dots$ \\\\\n",
       "\t12 & 1 & 1 & 0 & 0 & 0 & 0 & 1 & $\\dots$ \\\\\n",
       "\t13 & 1 & 0 & 0 & 0 & 1 & 0 & 0 & $\\dots$ \\\\\n",
       "\t14 & 0 & 0 & 1 & 0 & 0 & 1 & 1 & $\\dots$ \\\\\n",
       "\t15 & 0 & 0 & 0 & 1 & 0 & 0 & 1 & $\\dots$ \\\\\n",
       "\t16 & \\emph{missing} & \\emph{missing} & \\emph{missing} & \\emph{missing} & \\emph{missing} & \\emph{missing} & \\emph{missing} & $\\dots$ \\\\\n",
       "\t17 & Class & Periods & \\emph{missing} & \\emph{missing} & \\emph{missing} & \\emph{missing} & \\emph{missing} & $\\dots$ \\\\\n",
       "\t18 & History & [7, 4, 3] & \\emph{missing} & \\emph{missing} & \\emph{missing} & \\emph{missing} & \\emph{missing} & $\\dots$ \\\\\n",
       "\t19 & Biology & [1, 7] & \\emph{missing} & \\emph{missing} & \\emph{missing} & \\emph{missing} & \\emph{missing} & $\\dots$ \\\\\n",
       "\t20 & Chemistry & [0, 1, 3, 4] & \\emph{missing} & \\emph{missing} & \\emph{missing} & \\emph{missing} & \\emph{missing} & $\\dots$ \\\\\n",
       "\t21 & Physics & [5, 4, 3, 1] & \\emph{missing} & \\emph{missing} & \\emph{missing} & \\emph{missing} & \\emph{missing} & $\\dots$ \\\\\n",
       "\t22 & English & [0, 6] & \\emph{missing} & \\emph{missing} & \\emph{missing} & \\emph{missing} & \\emph{missing} & $\\dots$ \\\\\n",
       "\t23 & Optimization & [7, 6, 0, 2] & \\emph{missing} & \\emph{missing} & \\emph{missing} & \\emph{missing} & \\emph{missing} & $\\dots$ \\\\\n",
       "\t24 & Machine Learning & [] & \\emph{missing} & \\emph{missing} & \\emph{missing} & \\emph{missing} & \\emph{missing} & $\\dots$ \\\\\n",
       "\t25 & Business & [0, 4, 7, 3] & \\emph{missing} & \\emph{missing} & \\emph{missing} & \\emph{missing} & \\emph{missing} & $\\dots$ \\\\\n",
       "\t26 & Astro Engineering & [7, 3, 0, 5] & \\emph{missing} & \\emph{missing} & \\emph{missing} & \\emph{missing} & \\emph{missing} & $\\dots$ \\\\\n",
       "\t27 & Aero Engineering & [4, 7] & \\emph{missing} & \\emph{missing} & \\emph{missing} & \\emph{missing} & \\emph{missing} & $\\dots$ \\\\\n",
       "\t28 & Political Science & [5, 6, 4, 0] & \\emph{missing} & \\emph{missing} & \\emph{missing} & \\emph{missing} & \\emph{missing} & $\\dots$ \\\\\n",
       "\t29 & Social Science & [3, 0, 6, 5] & \\emph{missing} & \\emph{missing} & \\emph{missing} & \\emph{missing} & \\emph{missing} & $\\dots$ \\\\\n",
       "\t30 & Chinese & [7, 2, 4, 3] & \\emph{missing} & \\emph{missing} & \\emph{missing} & \\emph{missing} & \\emph{missing} & $\\dots$ \\\\\n",
       "\t$\\dots$ & $\\dots$ & $\\dots$ & $\\dots$ & $\\dots$ & $\\dots$ & $\\dots$ & $\\dots$ &  \\\\\n",
       "\\end{tabular}\n"
      ],
      "text/plain": [
       "\u001b[1m34×8 DataFrame\u001b[0m\n",
       "\u001b[1m Row \u001b[0m│\u001b[1m Period_0          \u001b[0m\u001b[1m Period_1     \u001b[0m\u001b[1m Period_2 \u001b[0m\u001b[1m Period_3 \u001b[0m\u001b[1m Period_4 \u001b[0m\u001b[1m Period_5\u001b[0m ⋯\n",
       "     │\u001b[90m String31?         \u001b[0m\u001b[90m String15?    \u001b[0m\u001b[90m Int64?   \u001b[0m\u001b[90m Int64?   \u001b[0m\u001b[90m Int64?   \u001b[0m\u001b[90m Int64?  \u001b[0m ⋯\n",
       "─────┼──────────────────────────────────────────────────────────────────────────\n",
       "   1 │ 0                  1                    1         0         0         0 ⋯\n",
       "   2 │ 1                  0                    1         1         0         0\n",
       "   3 │ 0                  0                    1         0         0         1\n",
       "   4 │ 0                  1                    0         1         0         0\n",
       "   5 │ 1                  1                    0         1         0         0 ⋯\n",
       "   6 │ 1                  0                    0         1         1         0\n",
       "   7 │ 0                  0                    0         1         0         0\n",
       "   8 │ 0                  1                    1         0         0         0\n",
       "   9 │ 0                  1                    0         0         0         1 ⋯\n",
       "  10 │ 0                  0                    0         0         1         1\n",
       "  11 │ 0                  0                    1         1         1         0\n",
       "  ⋮  │         ⋮               ⋮           ⋮         ⋮         ⋮         ⋮     ⋱\n",
       "  25 │ Business           [0, 4, 7, 3] \u001b[90m  missing \u001b[0m\u001b[90m  missing \u001b[0m\u001b[90m  missing \u001b[0m\u001b[90m  missing\u001b[0m\n",
       "  26 │ Astro Engineering  [7, 3, 0, 5] \u001b[90m  missing \u001b[0m\u001b[90m  missing \u001b[0m\u001b[90m  missing \u001b[0m\u001b[90m  missing\u001b[0m ⋯\n",
       "  27 │ Aero Engineering   [4, 7]       \u001b[90m  missing \u001b[0m\u001b[90m  missing \u001b[0m\u001b[90m  missing \u001b[0m\u001b[90m  missing\u001b[0m\n",
       "  28 │ Political Science  [5, 6, 4, 0] \u001b[90m  missing \u001b[0m\u001b[90m  missing \u001b[0m\u001b[90m  missing \u001b[0m\u001b[90m  missing\u001b[0m\n",
       "  29 │ Social Science     [3, 0, 6, 5] \u001b[90m  missing \u001b[0m\u001b[90m  missing \u001b[0m\u001b[90m  missing \u001b[0m\u001b[90m  missing\u001b[0m\n",
       "  30 │ Chinese            [7, 2, 4, 3] \u001b[90m  missing \u001b[0m\u001b[90m  missing \u001b[0m\u001b[90m  missing \u001b[0m\u001b[90m  missing\u001b[0m ⋯\n",
       "  31 │ French             [2, 4, 3]    \u001b[90m  missing \u001b[0m\u001b[90m  missing \u001b[0m\u001b[90m  missing \u001b[0m\u001b[90m  missing\u001b[0m\n",
       "  32 │ Spanish            [3, 1, 5, 7] \u001b[90m  missing \u001b[0m\u001b[90m  missing \u001b[0m\u001b[90m  missing \u001b[0m\u001b[90m  missing\u001b[0m\n",
       "  33 │ Algebra            [5, 7, 0, 4] \u001b[90m  missing \u001b[0m\u001b[90m  missing \u001b[0m\u001b[90m  missing \u001b[0m\u001b[90m  missing\u001b[0m\n",
       "  34 │\u001b[90m missing           \u001b[0m\u001b[90m missing      \u001b[0m\u001b[90m  missing \u001b[0m\u001b[90m  missing \u001b[0m\u001b[90m  missing \u001b[0m\u001b[90m  missing\u001b[0m ⋯\n",
       "\u001b[36m                                                   2 columns and 13 rows omitted\u001b[0m"
      ]
     },
     "execution_count": 20,
     "metadata": {},
     "output_type": "execute_result"
    }
   ],
   "source": [
    "classPeriods"
   ]
  },
  {
   "cell_type": "code",
   "execution_count": 4,
   "metadata": {},
   "outputs": [
    {
     "name": "stdout",
     "output_type": "stream",
     "text": [
      "Set parameter Username\n",
      "Academic license - for non-commercial use only - expires 2024-08-22\n"
     ]
    }
   ],
   "source": [
    "model = Model(Gurobi.Optimizer);"
   ]
  },
  {
   "cell_type": "code",
   "execution_count": 19,
   "metadata": {},
   "outputs": [
    {
     "data": {
      "text/plain": [
       "34×8 Matrix{Any}:\n",
       " \"0\"                  …  0         0         0\n",
       " \"1\"                     0         1         0\n",
       " \"0\"                     1         0         1\n",
       " \"0\"                     0         0         0\n",
       " \"1\"                     0         0         1\n",
       " \"1\"                  …  0         0         0\n",
       " \"0\"                     0         1         0\n",
       " \"0\"                     0         1         1\n",
       " \"0\"                     1         0         1\n",
       " \"0\"                     1         0         1\n",
       " \"0\"                  …  0         0         0\n",
       " \"1\"                     0         1         0\n",
       " \"1\"                     0         0         0\n",
       " ⋮                              ⋱  ⋮                   \n",
       " \"Optimization\"           missing   missing   missing\n",
       " \"Machine Learning\"       missing   missing   missing\n",
       " \"Business\"               missing   missing   missing\n",
       " \"Astro Engineering\"  …   missing   missing   missing\n",
       " \"Aero Engineering\"       missing   missing   missing\n",
       " \"Political Science\"      missing   missing   missing\n",
       " \"Social Science\"         missing   missing   missing\n",
       " \"Chinese\"                missing   missing   missing\n",
       " \"French\"             …   missing   missing   missing\n",
       " \"Spanish\"                missing   missing   missing\n",
       " \"Algebra\"                missing   missing   missing\n",
       " missing                            missing   missing   missing"
      ]
     },
     "execution_count": 19,
     "metadata": {},
     "output_type": "execute_result"
    }
   ],
   "source": [
    "I = 1:size(classroomCapacity,1)\n",
    "J = 1:8\n",
    "K = 1:size(studentClasses,1)\n",
    "D = 1:2\n",
    "P = 1:15\n",
    "Q = Matrix(studentClasses)# k arrays (matrix) each person takes\n",
    "R = Matrix(subjectClassrooms)# p arrays of subjects and their classrooms (matrix)\n",
    "T = Matrix(classPeriods)# matrix of which periods each subject can be in;"
   ]
  },
  {
   "cell_type": "markdown",
   "metadata": {},
   "source": [
    "### Variables"
   ]
  },
  {
   "cell_type": "code",
   "execution_count": null,
   "metadata": {},
   "outputs": [],
   "source": [
    "#@variable(model, x[I, J], Bin); # classroom\n",
    "@variable(model, s[I, J, K, P], Bin); # student\n",
    "@variable(model, S[I, J, D, P], Bin); # subject"
   ]
  },
  {
   "cell_type": "markdown",
   "metadata": {},
   "source": [
    "## Constraints"
   ]
  },
  {
   "cell_type": "code",
   "execution_count": null,
   "metadata": {},
   "outputs": [],
   "source": [
    "@objective(model, Min, sum(S[i, j, d, p] for i in I for j in J for d in D for p in P))"
   ]
  },
  {
   "cell_type": "markdown",
   "metadata": {},
   "source": [
    "#### Student constraints"
   ]
  },
  {
   "cell_type": "code",
   "execution_count": null,
   "metadata": {},
   "outputs": [],
   "source": [
    "# student athlete cannot have class period 8\n",
    "# student in chorus \n",
    "for k in K\n",
    "    for i in I\n",
    "        for j in J\n",
    "            if studentClasses[k, 16] == 1 # if they are athlete\n",
    "                if j == 8\n",
    "                    @constraint(model, [p = P], s[i, j, k, p] = 0)\n",
    "                end\n",
    "            end\n",
    "            if studentClasses[k, 17] == 1\n",
    "                if j == 7 | j == 8\n",
    "                    @constraint(model, [p = P], s[i, j, k, p] = 0)\n",
    "            end\n",
    "        end\n",
    "    end\n",
    "end"
   ]
  },
  {
   "cell_type": "code",
   "execution_count": null,
   "metadata": {},
   "outputs": [],
   "source": [
    "# each student only one class at same time\n",
    "@constraint(model, [j = J, k = K, p = P], sum(s[i, j, k, p] for i in I) == 1)"
   ]
  },
  {
   "cell_type": "code",
   "execution_count": null,
   "metadata": {},
   "outputs": [],
   "source": [
    "# each student gets all of their classes\n",
    "# Q is a matrix that is 1000x15 where there are 15 classes, binary if student needs it or not\n",
    "@constraint(model, [i = I, j = J, k = K], sum(s[i, j, k, p]*Q[k, p] for p in P) == 5)"
   ]
  },
  {
   "cell_type": "markdown",
   "metadata": {},
   "source": [
    "#### Classroom Capacities"
   ]
  },
  {
   "cell_type": "code",
   "execution_count": null,
   "metadata": {},
   "outputs": [],
   "source": [
    "# this works because we have the next constraint\n",
    "@constraint(model, [i = I, j = J, p = P], sum(s[i, j, k, p] for k in K) <= classroomCapacity[i, 1])"
   ]
  },
  {
   "cell_type": "markdown",
   "metadata": {},
   "source": [
    "#### Period Constraints"
   ]
  },
  {
   "cell_type": "code",
   "execution_count": null,
   "metadata": {},
   "outputs": [],
   "source": [
    "# T is a 15 x 8 matrix, p x j\n",
    "# subjects only in certain time periods allowed\n",
    "# for a given subject, classroom, day, sum time periods and make sure it is less than total classrooms for subject\n",
    "@constraint(model, [p = P, i = I, d = D], sum(S[i, j, d, p]*T[p, j] for p in P) <= sum(T[p, j] for j in J))\n",
    "for i in I\n",
    "    for j in J\n",
    "        for d in D\n",
    "            for p in P\n",
    "                if T[p, j] == 0 # if subject is not given during that time period\n",
    "                    S[i, j, d, p] == 0 # make sure Subject is 0\n",
    "                end\n",
    "            end\n",
    "        end\n",
    "    end\n",
    "end"
   ]
  },
  {
   "cell_type": "markdown",
   "metadata": {},
   "source": [
    "#### Subject Constraints"
   ]
  },
  {
   "cell_type": "code",
   "execution_count": null,
   "metadata": {},
   "outputs": [],
   "source": [
    "#i, j, d, p\n",
    "# only one subject can be in one classroom during one time period on certain day\n",
    "@constraint(model, [p = P, d = D, j = J], sum(S[i, j, d, p] for i in I) == 1)\n",
    "\n",
    "# if subject is not given on a certain day, make sure it is 0\n",
    "#@constraint(model, [i = I, p = P, d = D, j = J], S[i, j, d, p] = 0 if daysAvailable[p, 2] == 1)\n",
    "@constraint(model, [i = I, p = P, d = D, j = J], S[i, j, d, p] = 0, when=daysAvailable[p, 2] == 1)"
   ]
  },
  {
   "cell_type": "code",
   "execution_count": null,
   "metadata": {},
   "outputs": [],
   "source": [
    "# ensuring subjects are only in their classrooms\n",
    "# R is a 15 \n",
    "@constraint(model, [i = I, j = J, d = D], sum(S[i, j, d, p]*R[p, i] for p in P) <= sum(R[p,i] for i in I))\n",
    "for i in I\n",
    "    for j in J\n",
    "        for d in D\n",
    "            for p in P\n",
    "                if R[p, i] == 0 # if subject is not in a classroom\n",
    "                    S[i, j, d, p] == 0 # make sure subject is 0\n",
    "                end\n",
    "            end\n",
    "        end\n",
    "    end\n",
    "end"
   ]
  },
  {
   "cell_type": "code",
   "execution_count": null,
   "metadata": {},
   "outputs": [],
   "source": [
    "optimize!(model)"
   ]
  }
 ],
 "metadata": {
  "kernelspec": {
   "display_name": "Julia 1.9.2",
   "language": "julia",
   "name": "julia-1.9"
  },
  "language_info": {
   "file_extension": ".jl",
   "mimetype": "application/julia",
   "name": "julia",
   "version": "1.9.2"
  }
 },
 "nbformat": 4,
 "nbformat_minor": 4
}
